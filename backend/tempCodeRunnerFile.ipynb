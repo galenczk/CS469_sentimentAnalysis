train_iter = iter(SST2(split="train"))
